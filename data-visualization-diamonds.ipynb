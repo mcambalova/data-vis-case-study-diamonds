{
 "cells": [
  {
   "cell_type": "markdown",
   "metadata": {},
   "source": [
    "# Data Visualization Case Study: Diamonds\n",
    "\n",
    "## Table of Contents\n",
    "<ul>\n",
    "    <li><a href='#intro'>Introduction</a></li>\n",
    "    <li><a href='#data'>Description of the Data</a></li>\n",
    "    <li><a href='#setup'>Setup</a></li>\n",
    "    <li><a href='#overview'>Overview of the Dataset</a></li>\n",
    "    <li><a href='#univar_exploration'>Univariate Exploration</a></li>\n",
    "        <ul>    \n",
    "            <li><a href='#price'>Price</a></li>\n",
    "            <li><a href='#carat'>Carat weight</a></li>\n",
    "            <li><a href='#cut_color_clarity'>Cut, color and clarity</a></li>\n",
    "        </ul>\n",
    "</ul>\n",
    "\n",
    "<a id='intro'></a>\n",
    "## Introduction\n",
    "This visualization case study is a part of the Data Visualization course within the Data Analyst Nanodegree Program at Udacity. The dataset used for data visualization practice contains diamonds data. The aim is to explore the data using univariate, bivariate and multivariate visualizations, and provide answers to questions related to the importance of the selected factors when it comes to the price. \n",
    "\n",
    "<a id='data'></a>\n",
    "## Description of the Data\n",
    "The dataset includes prices and attributes of approximately 54,000 round-cut diamonds. There are ten columns: \n",
    "- __price:__ price in dollars (data was collected in 2008)\n",
    "- __carat:__ diamond weight (1 carat = 0.2 grams)\n",
    "- __cut:__ quality of diamond cut and it affects its shine. Grades are as follows:\n",
    "    - fair (low)\n",
    "    - good\n",
    "    - very good\n",
    "    - premium\n",
    "    - ideal (best)\n",
    "- __color:__ measure of diamond coloration. Increasing grades: \n",
    "    - J (some color)\n",
    "    - I\n",
    "    - H\n",
    "    - G\n",
    "    - F\n",
    "    - E\n",
    "    - D (colorless)\n",
    "- __clarity:__ measure of diamond inclusions. Increasing grades: \n",
    "    - I1 (inclusions)\n",
    "    - SI2\n",
    "    - SI1\n",
    "    - VS2\n",
    "    - VS1\n",
    "    - VVS2\n",
    "    - VVS1\n",
    "    - IF (internally flawless)\n",
    "- __x, y, z:__ diamond length, width, and depth, respectively, in mm\n",
    "- __table:__ ratio of width of top face of diamond to its overall width, as a percentage\n",
    "- __depth:__ proportional depth of diamond, as a percentage; computed as 2 * z / (x + y), or the ratio of the depth to the average of length and width\n",
    "\n",
    "The study is focused on the first five variables: price, carat, cut, color and clarity. "
   ]
  },
  {
   "cell_type": "markdown",
   "metadata": {},
   "source": [
    "<a id='setup'></a>\n",
    "## Setup\n",
    "First, prepare the workspace - import all modules and set matplotlib backend. Load the dataset into a Pandas dataframe."
   ]
  },
  {
   "cell_type": "code",
   "execution_count": 1,
   "metadata": {},
   "outputs": [],
   "source": [
    "# import all packages and set plots to be embedded inline\n",
    "import numpy as np\n",
    "import pandas as pd\n",
    "import matplotlib.pyplot as plt\n",
    "import seaborn as sb\n",
    "\n",
    "%matplotlib inline"
   ]
  },
  {
   "cell_type": "code",
   "execution_count": 2,
   "metadata": {},
   "outputs": [],
   "source": [
    "# load in the dataset into a pandas dataframe\n",
    "diamonds = pd.read_csv('data/diamonds.csv')"
   ]
  },
  {
   "cell_type": "markdown",
   "metadata": {},
   "source": [
    "<a id='overview'></a>\n",
    "## Overview of the Dataset\n",
    "Look at size and composition of the dataset:"
   ]
  },
  {
   "cell_type": "code",
   "execution_count": 3,
   "metadata": {},
   "outputs": [
    {
     "name": "stdout",
     "output_type": "stream",
     "text": [
      "Shape of the dataset: (53940, 10)\n",
      "\n",
      "Data types:\n",
      "carat      float64\n",
      "cut         object\n",
      "color       object\n",
      "clarity     object\n",
      "depth      float64\n",
      "table      float64\n",
      "price        int64\n",
      "x          float64\n",
      "y          float64\n",
      "z          float64\n",
      "dtype: object \n",
      "\n",
      "First 10 rows:\n"
     ]
    },
    {
     "data": {
      "text/html": [
       "<div>\n",
       "<style scoped>\n",
       "    .dataframe tbody tr th:only-of-type {\n",
       "        vertical-align: middle;\n",
       "    }\n",
       "\n",
       "    .dataframe tbody tr th {\n",
       "        vertical-align: top;\n",
       "    }\n",
       "\n",
       "    .dataframe thead th {\n",
       "        text-align: right;\n",
       "    }\n",
       "</style>\n",
       "<table border=\"1\" class=\"dataframe\">\n",
       "  <thead>\n",
       "    <tr style=\"text-align: right;\">\n",
       "      <th></th>\n",
       "      <th>carat</th>\n",
       "      <th>cut</th>\n",
       "      <th>color</th>\n",
       "      <th>clarity</th>\n",
       "      <th>depth</th>\n",
       "      <th>table</th>\n",
       "      <th>price</th>\n",
       "      <th>x</th>\n",
       "      <th>y</th>\n",
       "      <th>z</th>\n",
       "    </tr>\n",
       "  </thead>\n",
       "  <tbody>\n",
       "    <tr>\n",
       "      <th>0</th>\n",
       "      <td>0.23</td>\n",
       "      <td>Ideal</td>\n",
       "      <td>E</td>\n",
       "      <td>SI2</td>\n",
       "      <td>61.5</td>\n",
       "      <td>55.0</td>\n",
       "      <td>326</td>\n",
       "      <td>3.95</td>\n",
       "      <td>3.98</td>\n",
       "      <td>2.43</td>\n",
       "    </tr>\n",
       "    <tr>\n",
       "      <th>1</th>\n",
       "      <td>0.21</td>\n",
       "      <td>Premium</td>\n",
       "      <td>E</td>\n",
       "      <td>SI1</td>\n",
       "      <td>59.8</td>\n",
       "      <td>61.0</td>\n",
       "      <td>326</td>\n",
       "      <td>3.89</td>\n",
       "      <td>3.84</td>\n",
       "      <td>2.31</td>\n",
       "    </tr>\n",
       "    <tr>\n",
       "      <th>2</th>\n",
       "      <td>0.23</td>\n",
       "      <td>Good</td>\n",
       "      <td>E</td>\n",
       "      <td>VS1</td>\n",
       "      <td>56.9</td>\n",
       "      <td>65.0</td>\n",
       "      <td>327</td>\n",
       "      <td>4.05</td>\n",
       "      <td>4.07</td>\n",
       "      <td>2.31</td>\n",
       "    </tr>\n",
       "    <tr>\n",
       "      <th>3</th>\n",
       "      <td>0.29</td>\n",
       "      <td>Premium</td>\n",
       "      <td>I</td>\n",
       "      <td>VS2</td>\n",
       "      <td>62.4</td>\n",
       "      <td>58.0</td>\n",
       "      <td>334</td>\n",
       "      <td>4.20</td>\n",
       "      <td>4.23</td>\n",
       "      <td>2.63</td>\n",
       "    </tr>\n",
       "    <tr>\n",
       "      <th>4</th>\n",
       "      <td>0.31</td>\n",
       "      <td>Good</td>\n",
       "      <td>J</td>\n",
       "      <td>SI2</td>\n",
       "      <td>63.3</td>\n",
       "      <td>58.0</td>\n",
       "      <td>335</td>\n",
       "      <td>4.34</td>\n",
       "      <td>4.35</td>\n",
       "      <td>2.75</td>\n",
       "    </tr>\n",
       "    <tr>\n",
       "      <th>5</th>\n",
       "      <td>0.24</td>\n",
       "      <td>Very Good</td>\n",
       "      <td>J</td>\n",
       "      <td>VVS2</td>\n",
       "      <td>62.8</td>\n",
       "      <td>57.0</td>\n",
       "      <td>336</td>\n",
       "      <td>3.94</td>\n",
       "      <td>3.96</td>\n",
       "      <td>2.48</td>\n",
       "    </tr>\n",
       "    <tr>\n",
       "      <th>6</th>\n",
       "      <td>0.24</td>\n",
       "      <td>Very Good</td>\n",
       "      <td>I</td>\n",
       "      <td>VVS1</td>\n",
       "      <td>62.3</td>\n",
       "      <td>57.0</td>\n",
       "      <td>336</td>\n",
       "      <td>3.95</td>\n",
       "      <td>3.98</td>\n",
       "      <td>2.47</td>\n",
       "    </tr>\n",
       "    <tr>\n",
       "      <th>7</th>\n",
       "      <td>0.26</td>\n",
       "      <td>Very Good</td>\n",
       "      <td>H</td>\n",
       "      <td>SI1</td>\n",
       "      <td>61.9</td>\n",
       "      <td>55.0</td>\n",
       "      <td>337</td>\n",
       "      <td>4.07</td>\n",
       "      <td>4.11</td>\n",
       "      <td>2.53</td>\n",
       "    </tr>\n",
       "    <tr>\n",
       "      <th>8</th>\n",
       "      <td>0.22</td>\n",
       "      <td>Fair</td>\n",
       "      <td>E</td>\n",
       "      <td>VS2</td>\n",
       "      <td>65.1</td>\n",
       "      <td>61.0</td>\n",
       "      <td>337</td>\n",
       "      <td>3.87</td>\n",
       "      <td>3.78</td>\n",
       "      <td>2.49</td>\n",
       "    </tr>\n",
       "    <tr>\n",
       "      <th>9</th>\n",
       "      <td>0.23</td>\n",
       "      <td>Very Good</td>\n",
       "      <td>H</td>\n",
       "      <td>VS1</td>\n",
       "      <td>59.4</td>\n",
       "      <td>61.0</td>\n",
       "      <td>338</td>\n",
       "      <td>4.00</td>\n",
       "      <td>4.05</td>\n",
       "      <td>2.39</td>\n",
       "    </tr>\n",
       "  </tbody>\n",
       "</table>\n",
       "</div>"
      ],
      "text/plain": [
       "   carat        cut color clarity  depth  table  price     x     y     z\n",
       "0   0.23      Ideal     E     SI2   61.5   55.0    326  3.95  3.98  2.43\n",
       "1   0.21    Premium     E     SI1   59.8   61.0    326  3.89  3.84  2.31\n",
       "2   0.23       Good     E     VS1   56.9   65.0    327  4.05  4.07  2.31\n",
       "3   0.29    Premium     I     VS2   62.4   58.0    334  4.20  4.23  2.63\n",
       "4   0.31       Good     J     SI2   63.3   58.0    335  4.34  4.35  2.75\n",
       "5   0.24  Very Good     J    VVS2   62.8   57.0    336  3.94  3.96  2.48\n",
       "6   0.24  Very Good     I    VVS1   62.3   57.0    336  3.95  3.98  2.47\n",
       "7   0.26  Very Good     H     SI1   61.9   55.0    337  4.07  4.11  2.53\n",
       "8   0.22       Fair     E     VS2   65.1   61.0    337  3.87  3.78  2.49\n",
       "9   0.23  Very Good     H     VS1   59.4   61.0    338  4.00  4.05  2.39"
      ]
     },
     "execution_count": 3,
     "metadata": {},
     "output_type": "execute_result"
    }
   ],
   "source": [
    "# high-level overview of data shape and composition\n",
    "print('Shape of the dataset: {}\\n'.format(diamonds.shape))\n",
    "print('Data types:')\n",
    "print(diamonds.dtypes, '\\n')\n",
    "print('First 10 rows:')\n",
    "diamonds.head(10)"
   ]
  },
  {
   "cell_type": "markdown",
   "metadata": {},
   "source": [
    "Print descriptive statistics for numeric variables:"
   ]
  },
  {
   "cell_type": "code",
   "execution_count": 4,
   "metadata": {},
   "outputs": [
    {
     "data": {
      "text/html": [
       "<div>\n",
       "<style scoped>\n",
       "    .dataframe tbody tr th:only-of-type {\n",
       "        vertical-align: middle;\n",
       "    }\n",
       "\n",
       "    .dataframe tbody tr th {\n",
       "        vertical-align: top;\n",
       "    }\n",
       "\n",
       "    .dataframe thead th {\n",
       "        text-align: right;\n",
       "    }\n",
       "</style>\n",
       "<table border=\"1\" class=\"dataframe\">\n",
       "  <thead>\n",
       "    <tr style=\"text-align: right;\">\n",
       "      <th></th>\n",
       "      <th>carat</th>\n",
       "      <th>depth</th>\n",
       "      <th>table</th>\n",
       "      <th>price</th>\n",
       "      <th>x</th>\n",
       "      <th>y</th>\n",
       "      <th>z</th>\n",
       "    </tr>\n",
       "  </thead>\n",
       "  <tbody>\n",
       "    <tr>\n",
       "      <th>count</th>\n",
       "      <td>53940.000000</td>\n",
       "      <td>53940.000000</td>\n",
       "      <td>53940.000000</td>\n",
       "      <td>53940.000000</td>\n",
       "      <td>53940.000000</td>\n",
       "      <td>53940.000000</td>\n",
       "      <td>53940.000000</td>\n",
       "    </tr>\n",
       "    <tr>\n",
       "      <th>mean</th>\n",
       "      <td>0.797940</td>\n",
       "      <td>61.749405</td>\n",
       "      <td>57.457184</td>\n",
       "      <td>3932.799722</td>\n",
       "      <td>5.731157</td>\n",
       "      <td>5.734526</td>\n",
       "      <td>3.538734</td>\n",
       "    </tr>\n",
       "    <tr>\n",
       "      <th>std</th>\n",
       "      <td>0.474011</td>\n",
       "      <td>1.432621</td>\n",
       "      <td>2.234491</td>\n",
       "      <td>3989.439738</td>\n",
       "      <td>1.121761</td>\n",
       "      <td>1.142135</td>\n",
       "      <td>0.705699</td>\n",
       "    </tr>\n",
       "    <tr>\n",
       "      <th>min</th>\n",
       "      <td>0.200000</td>\n",
       "      <td>43.000000</td>\n",
       "      <td>43.000000</td>\n",
       "      <td>326.000000</td>\n",
       "      <td>0.000000</td>\n",
       "      <td>0.000000</td>\n",
       "      <td>0.000000</td>\n",
       "    </tr>\n",
       "    <tr>\n",
       "      <th>25%</th>\n",
       "      <td>0.400000</td>\n",
       "      <td>61.000000</td>\n",
       "      <td>56.000000</td>\n",
       "      <td>950.000000</td>\n",
       "      <td>4.710000</td>\n",
       "      <td>4.720000</td>\n",
       "      <td>2.910000</td>\n",
       "    </tr>\n",
       "    <tr>\n",
       "      <th>50%</th>\n",
       "      <td>0.700000</td>\n",
       "      <td>61.800000</td>\n",
       "      <td>57.000000</td>\n",
       "      <td>2401.000000</td>\n",
       "      <td>5.700000</td>\n",
       "      <td>5.710000</td>\n",
       "      <td>3.530000</td>\n",
       "    </tr>\n",
       "    <tr>\n",
       "      <th>75%</th>\n",
       "      <td>1.040000</td>\n",
       "      <td>62.500000</td>\n",
       "      <td>59.000000</td>\n",
       "      <td>5324.250000</td>\n",
       "      <td>6.540000</td>\n",
       "      <td>6.540000</td>\n",
       "      <td>4.040000</td>\n",
       "    </tr>\n",
       "    <tr>\n",
       "      <th>max</th>\n",
       "      <td>5.010000</td>\n",
       "      <td>79.000000</td>\n",
       "      <td>95.000000</td>\n",
       "      <td>18823.000000</td>\n",
       "      <td>10.740000</td>\n",
       "      <td>58.900000</td>\n",
       "      <td>31.800000</td>\n",
       "    </tr>\n",
       "  </tbody>\n",
       "</table>\n",
       "</div>"
      ],
      "text/plain": [
       "              carat         depth         table         price             x  \\\n",
       "count  53940.000000  53940.000000  53940.000000  53940.000000  53940.000000   \n",
       "mean       0.797940     61.749405     57.457184   3932.799722      5.731157   \n",
       "std        0.474011      1.432621      2.234491   3989.439738      1.121761   \n",
       "min        0.200000     43.000000     43.000000    326.000000      0.000000   \n",
       "25%        0.400000     61.000000     56.000000    950.000000      4.710000   \n",
       "50%        0.700000     61.800000     57.000000   2401.000000      5.700000   \n",
       "75%        1.040000     62.500000     59.000000   5324.250000      6.540000   \n",
       "max        5.010000     79.000000     95.000000  18823.000000     10.740000   \n",
       "\n",
       "                  y             z  \n",
       "count  53940.000000  53940.000000  \n",
       "mean       5.734526      3.538734  \n",
       "std        1.142135      0.705699  \n",
       "min        0.000000      0.000000  \n",
       "25%        4.720000      2.910000  \n",
       "50%        5.710000      3.530000  \n",
       "75%        6.540000      4.040000  \n",
       "max       58.900000     31.800000  "
      ]
     },
     "execution_count": 4,
     "metadata": {},
     "output_type": "execute_result"
    }
   ],
   "source": [
    "diamonds.describe()"
   ]
  },
  {
   "cell_type": "markdown",
   "metadata": {},
   "source": [
    "<a id='univar_exploration'></a>\n",
    "## Univariate Exploration\n",
    "<a id='price'></a>\n",
    "### Price\n",
    "Create a histogram since price is a numeric variable:"
   ]
  },
  {
   "cell_type": "code",
   "execution_count": 5,
   "metadata": {},
   "outputs": [
    {
     "data": {
      "image/png": "[encoded data removed]",
      "text/plain": [
       "<Figure size 432x288 with 1 Axes>"
      ]
     },
     "metadata": {
      "needs_background": "light"
     },
     "output_type": "display_data"
    }
   ],
   "source": [
    "# univariate plot of diamond prices\n",
    "bin_edges = np.arange(0, diamonds['price'].max()+500, 500)\n",
    "sb.distplot(diamonds['price'], bins = bin_edges, kde=False, hist_kws = {'alpha' : 1})\n",
    "\n",
    "plt.title('Price distribution of diamonds')\n",
    "plt.xlabel('Price (dollars)')\n",
    "plt.ylabel('Number of diamonds');"
   ]
  },
  {
   "cell_type": "markdown",
   "metadata": {},
   "source": [
    "The distribution of price is highly positively skewed, which makes it a proper candidate for log scaling:"
   ]
  },
  {
   "cell_type": "code",
   "execution_count": 6,
   "metadata": {},
   "outputs": [
    {
     "data": {
      "image/png": "[encoded data removed]",
      "text/plain": [
       "<Figure size 432x288 with 1 Axes>"
      ]
     },
     "metadata": {
      "needs_background": "light"
     },
     "output_type": "display_data"
    }
   ],
   "source": [
    "# univariate plot of diamond prices - log scale\n",
    "bin_edges = 10 ** np.arange(2.5, np.log10(diamonds['price'].max())+0.05, 0.05)\n",
    "sb.distplot(diamonds['price'], bins = bin_edges, kde=False, hist_kws = {'alpha' : 1})\n",
    "\n",
    "plt.xscale('log')\n",
    "tick_locs = [300, 500, 1000, 3000, 5000, 10000, 20000]\n",
    "plt.xticks(tick_locs, tick_locs)\n",
    "\n",
    "plt.title('Price distribution of diamonds')\n",
    "plt.xlabel('Price (dollars)')\n",
    "plt.ylabel('Number of diamonds');"
   ]
  },
  {
   "cell_type": "markdown",
   "metadata": {},
   "source": [
    "The data follows bimodal distribution under the log scale. There is a large peak between 500 and 1000, and another one between 4000 and 5000. It doesn't have a smooth tale on its right side. "
   ]
  },
  {
   "cell_type": "markdown",
   "metadata": {},
   "source": [
    "<a id='carat'></a>\n",
    "### Carat weight\n",
    "Carat weight is a numeric variable - plot a histogram:"
   ]
  },
  {
   "cell_type": "code",
   "execution_count": 7,
   "metadata": {},
   "outputs": [
    {
     "data": {
      "image/png": "[encoded data removed]",
      "text/plain": [
       "<Figure size 432x288 with 1 Axes>"
      ]
     },
     "metadata": {
      "needs_background": "light"
     },
     "output_type": "display_data"
    }
   ],
   "source": [
    "# histogram of carat weights\n",
    "bin_edges = np.arange(0, diamonds['carat'].max()+0.2, 0.2)\n",
    "sb.distplot(diamonds['carat'], bins = bin_edges, kde=False, hist_kws = {'alpha' : 1})\n",
    "plt.title('Distribution of carat weights')\n",
    "plt.xlabel('Carat weight')\n",
    "plt.ylabel('Number of diamonds');"
   ]
  },
  {
   "cell_type": "markdown",
   "metadata": {},
   "source": [
    "There is a peak between 0.2 and 0.6, and a spike corresponding to a bin between 1.0 and 1.2. Let's zoom in:"
   ]
  },
  {
   "cell_type": "code",
   "execution_count": 8,
   "metadata": {},
   "outputs": [
    {
     "data": {
      "image/png": "[encoded data removed]",
      "text/plain": [
       "<Figure size 432x288 with 1 Axes>"
      ]
     },
     "metadata": {
      "needs_background": "light"
     },
     "output_type": "display_data"
    }
   ],
   "source": [
    "# histogram of carat weights - zoom in\n",
    "bin_edges = np.arange(0, 1.4+0.1, 0.1)\n",
    "sb.distplot(diamonds['carat'], bins = bin_edges, kde=False, hist_kws = {'alpha' : 1})\n",
    "plt.title('Distribution of carat weights')\n",
    "plt.xlabel('Carat weight')\n",
    "plt.ylabel('Number of diamonds');"
   ]
  },
  {
   "cell_type": "code",
   "execution_count": 9,
   "metadata": {},
   "outputs": [
    {
     "data": {
      "image/png": "[encoded data removed]",
      "text/plain": [
       "<Figure size 432x288 with 1 Axes>"
      ]
     },
     "metadata": {
      "needs_background": "light"
     },
     "output_type": "display_data"
    }
   ],
   "source": [
    "# histogram of carat weights - zoom in further\n",
    "bin_edges = np.arange(1.0, 1.1+0.01, 0.01)\n",
    "sb.distplot(diamonds['carat'], bins = bin_edges, kde=False, hist_kws = {'alpha' : 1})\n",
    "plt.xlim(0.99, 1.12)\n",
    "plt.title('Distribution of carat weights')\n",
    "plt.xlabel('Carat weight')\n",
    "plt.ylabel('Number of diamonds');"
   ]
  },
  {
   "cell_type": "markdown",
   "metadata": {},
   "source": [
    "<a id='cut_color_clarity'></a>\n",
    "### Cut, color and clarity\n",
    "All three remaining diamond C's are categorical variables and ordinal in nature. First, convert them to appropriate ordered data type in order to plot them properly:"
   ]
  },
  {
   "cell_type": "code",
   "execution_count": 10,
   "metadata": {},
   "outputs": [],
   "source": [
    "# create ordered categorical data type for cut\n",
    "level_order_cut = ['Fair', 'Good', 'Very Good', 'Premium', 'Ideal']\n",
    "ordered_cut = pd.api.types.CategoricalDtype(ordered = True, categories = level_order_cut)\n",
    "diamonds['cut'] = diamonds['cut'].astype(ordered_cut)\n",
    "\n",
    "# create ordered categorical data type for color\n",
    "level_order_color = ['J', 'I', 'H', 'G', 'F', 'E', 'D']\n",
    "ordered_color = pd.api.types.CategoricalDtype(ordered = True, categories = level_order_color)\n",
    "diamonds['color'] = diamonds['color'].astype(ordered_color)\n",
    "\n",
    "# create ordered categorical data type for clarity\n",
    "level_order_clarity = ['I1', 'SI2', 'SI1', 'VS2', 'VS1', 'VVS2', 'VVS1', 'IF']\n",
    "ordered_clarity = pd.api.types.CategoricalDtype(ordered = True, categories = level_order_clarity)\n",
    "diamonds['clarity'] = diamonds['clarity'].astype(ordered_clarity)"
   ]
  },
  {
   "cell_type": "code",
   "execution_count": 11,
   "metadata": {},
   "outputs": [
    {
     "data": {
      "text/plain": [
       "cut        category\n",
       "color      category\n",
       "clarity    category\n",
       "dtype: object"
      ]
     },
     "execution_count": 11,
     "metadata": {},
     "output_type": "execute_result"
    }
   ],
   "source": [
    "# verify that data types of cut, color and clarity have been changed\n",
    "diamonds[['cut', 'color', 'clarity']].dtypes"
   ]
  },
  {
   "cell_type": "markdown",
   "metadata": {},
   "source": [
    "__Distribution of cut__ - create both count and proportion bar plots:"
   ]
  },
  {
   "cell_type": "code",
   "execution_count": 12,
   "metadata": {},
   "outputs": [
    {
     "data": {
      "image/png": "[encoded data removed]",
      "text/plain": [
       "<Figure size 864x360 with 2 Axes>"
      ]
     },
     "metadata": {
      "needs_background": "light"
     },
     "output_type": "display_data"
    }
   ],
   "source": [
    "plt.figure(figsize = (12, 5))\n",
    "\n",
    "# pick the color for all bars\n",
    "base_color = sb.color_palette()[0]\n",
    "\n",
    "# create bar plot showing the number of diamonds\n",
    "plt.subplot(1, 2, 1)\n",
    "sb.countplot(data = diamonds, x = 'cut', color = base_color)\n",
    "plt.title('Distribution of diamonds cut')\n",
    "plt.xlabel('Cut')\n",
    "plt.ylabel('Number of diamonds')\n",
    "\n",
    "# create bar plot showing the proportion of diamonds\n",
    "max_cut = diamonds['cut'].value_counts().values[0]\n",
    "n_diamonds = diamonds.shape[0]\n",
    "max_prop = max_cut/n_diamonds\n",
    "\n",
    "tick_props = np.arange(0, max_prop+0.05, 0.05)\n",
    "tick_names = ['{:0.2f}'.format(v) for v in tick_props]\n",
    "\n",
    "plt.subplot(1, 2, 2)\n",
    "sb.countplot(data = diamonds, x = 'cut', color = base_color)\n",
    "plt.yticks(tick_props * n_diamonds, tick_names)\n",
    "plt.title('Distribution of diamonds cut')\n",
    "plt.xlabel('Cut')\n",
    "plt.ylabel('Proportion of diamonds');"
   ]
  },
  {
   "cell_type": "markdown",
   "metadata": {},
   "source": [
    "The highest proportion of diamonds has cut Ideal. The other cuts proportions corresponding to worse quality diamonds decrease gradually. "
   ]
  },
  {
   "cell_type": "markdown",
   "metadata": {},
   "source": [
    "__Distribution of color__ - plot counts and proportions side by side:"
   ]
  },
  {
   "cell_type": "code",
   "execution_count": 13,
   "metadata": {},
   "outputs": [
    {
     "data": {
      "image/png": "[encoded data removed]",
      "text/plain": [
       "<Figure size 864x360 with 2 Axes>"
      ]
     },
     "metadata": {
      "needs_background": "light"
     },
     "output_type": "display_data"
    }
   ],
   "source": [
    "plt.figure(figsize = (12, 5))\n",
    "\n",
    "# pick the color for all bars\n",
    "base_color = sb.color_palette()[0]\n",
    "\n",
    "# create bar plot showing the number of diamonds\n",
    "plt.subplot(1, 2, 1)\n",
    "sb.countplot(data = diamonds, x = 'color', color = base_color)\n",
    "plt.title('Distribution of diamonds color')\n",
    "plt.xlabel('Color')\n",
    "plt.ylabel('Number of diamonds')\n",
    "\n",
    "# create bar plot showing the proportion of diamonds\n",
    "max_color = diamonds['color'].value_counts().values[0]\n",
    "n_diamonds = diamonds.shape[0]\n",
    "max_prop = max_color/n_diamonds\n",
    "\n",
    "tick_props = np.arange(0, max_prop+0.05, 0.05)\n",
    "tick_names = ['{:0.2f}'.format(v) for v in tick_props]\n",
    "\n",
    "plt.subplot(1, 2, 2)\n",
    "sb.countplot(data = diamonds, x = 'color', color = base_color)\n",
    "plt.yticks(tick_props * n_diamonds, tick_names)\n",
    "plt.title('Distribution of diamonds color')\n",
    "plt.xlabel('Color')\n",
    "plt.ylabel('Proportion of diamonds');"
   ]
  },
  {
   "cell_type": "markdown",
   "metadata": {},
   "source": [
    "The distribution is roughly unimodal and the most frequent color grade is G."
   ]
  },
  {
   "cell_type": "markdown",
   "metadata": {},
   "source": [
    "Finally, plot __distributions of clarity__:"
   ]
  },
  {
   "cell_type": "code",
   "execution_count": 14,
   "metadata": {},
   "outputs": [
    {
     "data": {
      "image/png": "[encoded data removed]",
      "text/plain": [
       "<Figure size 864x360 with 2 Axes>"
      ]
     },
     "metadata": {
      "needs_background": "light"
     },
     "output_type": "display_data"
    }
   ],
   "source": [
    "plt.figure(figsize = (12, 5))\n",
    "\n",
    "# pick the color for all bars\n",
    "base_color = sb.color_palette()[0]\n",
    "\n",
    "# create bar plot showing the number of diamonds\n",
    "plt.subplot(1, 2, 1)\n",
    "sb.countplot(data = diamonds, x = 'clarity', color = base_color)\n",
    "plt.title('Distribution of diamonds clarity')\n",
    "plt.xlabel('Clarity')\n",
    "plt.ylabel('Number of diamonds')\n",
    "\n",
    "# create bar plot showing the proportion of diamonds\n",
    "max_clarity = diamonds['color'].value_counts().values[0]\n",
    "n_diamonds = diamonds.shape[0]\n",
    "max_prop = max_color/n_diamonds\n",
    "\n",
    "tick_props = np.arange(0, max_prop+0.05, 0.05)\n",
    "tick_names = ['{:0.2f}'.format(v) for v in tick_props]\n",
    "\n",
    "plt.subplot(1, 2, 2)\n",
    "sb.countplot(data = diamonds, x = 'clarity', color = base_color)\n",
    "plt.yticks(tick_props * n_diamonds, tick_names)\n",
    "plt.title('Distribution of diamonds clarity')\n",
    "plt.xlabel('Clarity')\n",
    "plt.ylabel('Proportion of diamonds');"
   ]
  },
  {
   "cell_type": "markdown",
   "metadata": {},
   "source": [
    "Distribution of clarity is slightly right skewed. The most common grades are SI2, SI1, VS2 and VS1. The worst clarity grade I1 (diamonds with inclusions) is rather rare. "
   ]
  },
  {
   "cell_type": "code",
   "execution_count": null,
   "metadata": {},
   "outputs": [],
   "source": []
  }
 ],
 "metadata": {
  "kernelspec": {
   "display_name": "Python 3",
   "language": "python",
   "name": "python3"
  },
  "language_info": {
   "codemirror_mode": {
    "name": "ipython",
    "version": 3
   },
   "file_extension": ".py",
   "mimetype": "text/x-python",
   "name": "python",
   "nbconvert_exporter": "python",
   "pygments_lexer": "ipython3",
   "version": "3.7.4"
  }
 },
 "nbformat": 4,
 "nbformat_minor": 4
}
