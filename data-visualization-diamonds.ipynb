{
 "cells": [
  {
   "cell_type": "markdown",
   "metadata": {},
   "source": [
    "# Data Visualization Case Study: Diamonds\n",
    "\n",
    "## Table of Contents\n",
    "<ul>\n",
    "    <li><a href='#intro'>Introduction</a></li>\n",
    "    <li><a href='#data'>Description of the Data</a></li>\n",
    "</ul>\n",
    "\n",
    "<a id='intro'></a>\n",
    "## Introduction\n",
    "This visualization case study is a part of the Data Visualization course within the Data Analyst Nanodegree Program at Udacity. The dataset used for data visualization practice contains diamonds data. The aim is to explore the data using univariate, bivariate and multivariate visualizations, and provide answers to questions related to the importance of the selected factors when it comes to the price. \n",
    "\n",
    "<a id='data'></a>\n",
    "## Description of the Data\n",
    "The dataset includes prices and attributes of approximately 54,000 round-cut diamonds. There are ten columns: \n",
    "- __price:__ price in dollars (data was collected in 2008)\n",
    "- __carat:__ diamond weight (1 carat = 0.2 grams)\n",
    "- __cut:__ quality of diamond cut and it affects its shine. Grades are as follows:\n",
    "    - fair (low)\n",
    "    - good\n",
    "    - very good\n",
    "    - premium\n",
    "    - ideal (best)\n",
    "- __color:__ measure of diamond coloration. Increasing grades: \n",
    "    - J (some color)\n",
    "    - I\n",
    "    - H\n",
    "    - G\n",
    "    - F\n",
    "    - E\n",
    "    - D (colorless)\n",
    "- __clarity:__ measure of diamond inclusions. Increasing grades: \n",
    "    - I1 (inclusions)\n",
    "    - SI2\n",
    "    - SI1\n",
    "    - VS2\n",
    "    - VS1\n",
    "    - VVS2\n",
    "    - VVS1\n",
    "    - IF (internally flawless)\n",
    "- __x, y, z:__ diamond length, width, and depth, respectively, in mm\n",
    "- __table:__ ratio of width of top face of diamond to its overall width, as a percentage\n",
    "- __depth:__ proportional depth of diamond, as a percentage; computed as 2 * z / (x + y), or the ratio of the depth to the average of length and width\n",
    "\n",
    "The study is focused on the first five variables: price, carat, cut, color and clarity. "
   ]
  },
  {
   "cell_type": "code",
   "execution_count": null,
   "metadata": {},
   "outputs": [],
   "source": []
  }
 ],
 "metadata": {
  "kernelspec": {
   "display_name": "Python 3",
   "language": "python",
   "name": "python3"
  },
  "language_info": {
   "codemirror_mode": {
    "name": "ipython",
    "version": 3
   },
   "file_extension": ".py",
   "mimetype": "text/x-python",
   "name": "python",
   "nbconvert_exporter": "python",
   "pygments_lexer": "ipython3",
   "version": "3.7.4"
  }
 },
 "nbformat": 4,
 "nbformat_minor": 4
}
